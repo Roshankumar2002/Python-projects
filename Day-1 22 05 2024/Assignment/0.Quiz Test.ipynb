{
 "cells": [
  {
   "cell_type": "markdown",
   "metadata": {},
   "source": [
    "<table>\n",
    "<tr>\n",
    "<td width=15%><img src=\"https://www.nitrkl.ac.in/assets/images/logo.png\"></img></td>\n",
    "<td><center><h1>National Institute of Technology\n",
    "Rourkela, Odisha, India, 769008</h1><h2>Department of Computer Science Engineering</h2></center></td>\n",
    "</tr>\n",
    "<tr><td colspan=2><center><h3>SUMMER INTERNSHIP cum TRAINNING PROGRAMME</h3></br>\n",
    "            <b>(STTP: Introduction to Data Science using Python)</b></center></td></tr>\n",
    "</table>"
   ]
  },
  {
   "cell_type": "markdown",
   "metadata": {},
   "source": [
    "_____\n",
    "**Write a program to print your name**"
   ]
  },
  {
   "cell_type": "code",
   "execution_count": 3,
   "metadata": {},
   "outputs": [
    {
     "name": "stdout",
     "output_type": "stream",
     "text": [
      "my name is : Roshan\n"
     ]
    }
   ],
   "source": [
    "name = \"Roshan\"\n",
    "print(\"my name is :\" + \"\" ,name )"
   ]
  },
  {
   "cell_type": "markdown",
   "metadata": {},
   "source": [
    "______\n",
    "**Write a program to accept two numbers and add, subtract and divide them**"
   ]
  },
  {
   "cell_type": "code",
   "execution_count": 8,
   "metadata": {},
   "outputs": [
    {
     "name": "stdin",
     "output_type": "stream",
     "text": [
      "enter the number 68\n",
      "enter the number 22\n"
     ]
    },
    {
     "name": "stdout",
     "output_type": "stream",
     "text": [
      "90.0 46.0 1496.0 3.090909090909091\n"
     ]
    }
   ],
   "source": [
    "\n",
    "num1 = float (input (\"enter the number\"))\n",
    "num2 = float (input (\"enter the number\"))\n",
    "add = num1+num2\n",
    "sub = num1-num2\n",
    "mul = num1 * num2\n",
    "div = num1 / num2\n",
    "print(add,sub,mul,div)"
   ]
  },
  {
   "cell_type": "markdown",
   "metadata": {},
   "source": [
    "___\n",
    "**Write a program to accept two strings and concate them**"
   ]
  },
  {
   "cell_type": "code",
   "execution_count": 21,
   "metadata": {},
   "outputs": [
    {
     "name": "stdin",
     "output_type": "stream",
     "text": [
      "enter the string champa\n",
      "enter the string chameli\n"
     ]
    },
    {
     "name": "stdout",
     "output_type": "stream",
     "text": [
      "   champa chameli\n"
     ]
    }
   ],
   "source": [
    "str1= input(\"enter the string\")\n",
    "str2= input(\"enter the string\")\n",
    "str = str1+\" \"+str2 \n",
    "print(\"  \",str)\n"
   ]
  },
  {
   "cell_type": "markdown",
   "metadata": {},
   "source": [
    "___\n",
    "**Write a program to accept three numbers and find the greatest among the three numbers**"
   ]
  },
  {
   "cell_type": "code",
   "execution_count": 25,
   "metadata": {},
   "outputs": [
    {
     "name": "stdin",
     "output_type": "stream",
     "text": [
      "enter the number 234\n",
      "enter the number 456\n",
      "enter the number 123\n"
     ]
    },
    {
     "name": "stdout",
     "output_type": "stream",
     "text": [
      "the largest number is : 456.0\n"
     ]
    }
   ],
   "source": [
    "#Code in this cell\n",
    "num1= float(input(\"enter the number\"))\n",
    "num2= float(input(\"enter the number\"))\n",
    "num3= float(input(\"enter the number\"))\n",
    "print(\"the largest number is :\",max(num1,num2,num3))"
   ]
  },
  {
   "cell_type": "markdown",
   "metadata": {},
   "source": [
    "___\n",
    "**Write a program to print \"India is the best\" 10 times**"
   ]
  },
  {
   "cell_type": "code",
   "execution_count": 28,
   "metadata": {},
   "outputs": [
    {
     "name": "stdout",
     "output_type": "stream",
     "text": [
      "India is the best\n",
      "India is the best\n",
      "India is the best\n",
      "India is the best\n",
      "India is the best\n",
      "India is the best\n",
      "India is the best\n",
      "India is the best\n",
      "India is the best\n",
      "India is the best\n"
     ]
    }
   ],
   "source": [
    "#Code in this cell\n",
    "for i in range(0,10):\n",
    "    print(\"India is the best\")"
   ]
  },
  {
   "cell_type": "markdown",
   "metadata": {},
   "source": [
    "### Great Job!"
   ]
  }
 ],
 "metadata": {
  "kernelspec": {
   "display_name": "Python 3 (ipykernel)",
   "language": "python",
   "name": "python3"
  },
  "language_info": {
   "codemirror_mode": {
    "name": "ipython",
    "version": 3
   },
   "file_extension": ".py",
   "mimetype": "text/x-python",
   "name": "python",
   "nbconvert_exporter": "python",
   "pygments_lexer": "ipython3",
   "version": "3.11.9"
  }
 },
 "nbformat": 4,
 "nbformat_minor": 4
}
