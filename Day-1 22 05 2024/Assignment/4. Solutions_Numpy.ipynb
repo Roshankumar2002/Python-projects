{
 "cells": [
  {
   "cell_type": "markdown",
   "metadata": {},
   "source": [
    "<table>\n",
    "<tr>\n",
    "<td width=15%><img src=\"https://www.nitrkl.ac.in/assets/images/logo.png\"></img></td>\n",
    "<td><center><h1>National Institute of Technology\n",
    "Rourkela, Odisha, India, 769008</h1><h2>Department of Computer Science Engineering</h2></center></td>\n",
    "</tr>\n",
    "<tr><td colspan=2><center><h3>SUMMER INTERNSHIP cum TRAINNING PROGRAMME</h3></br>\n",
    "            <b>(STTP: Introduction to Data Science using Python)</b></center></td></tr>\n",
    "</table>"
   ]
  },
  {
   "cell_type": "markdown",
   "metadata": {},
   "source": [
    "_____\n",
    "**Write a program to create an array [10, 5, 7, 20, 15, -9, 33], print it, Find the maximum and minimum Value of the array**"
   ]
  },
  {
   "cell_type": "code",
   "execution_count": 1,
   "metadata": {},
   "outputs": [
    {
     "name": "stdout",
     "output_type": "stream",
     "text": [
      "Array: [10  5  7 20 15 -9 33]\n",
      "Maximum value: 33\n",
      "Minimum value: -9\n"
     ]
    }
   ],
   "source": [
    "import numpy as np\n",
    "\n",
    "# Create the array\n",
    "arr = np.array([10, 5, 7, 20, 15, -9, 33])\n",
    "\n",
    "# Print the array\n",
    "print(\"Array:\", arr)\n",
    "\n",
    "# Find the maximum and minimum values\n",
    "max_value = np.max(arr)\n",
    "min_value = np.min(arr)\n",
    "\n",
    "# Print the maximum and minimum values\n",
    "print(\"Maximum value:\", max_value)\n",
    "print(\"Minimum value:\", min_value)"
   ]
  },
  {
   "cell_type": "markdown",
   "metadata": {},
   "source": [
    "______\n",
    "**Write a program to accept an array of elements and find the maximum without using max function**"
   ]
  },
  {
   "cell_type": "code",
   "execution_count": 7,
   "metadata": {},
   "outputs": [
    {
     "name": "stdin",
     "output_type": "stream",
     "text": [
      "Enter elements of the array separated by spaces:  1 2 22 3 44 5 -10\n"
     ]
    },
    {
     "name": "stdout",
     "output_type": "stream",
     "text": [
      "Maximum value: 44\n"
     ]
    }
   ],
   "source": [
    "import numpy as np\n",
    "\n",
    "def find_max(arr):\n",
    "    if len(arr) == 0:\n",
    "        return None\n",
    "    \n",
    "    max_value = arr[0]  # Assume the first element is the maximum\n",
    "    \n",
    "    for element in arr[1:]:\n",
    "        if element > max_value:\n",
    "            max_value = element\n",
    "    \n",
    "    return max_value\n",
    "\n",
    "# Accepting array of elements from the user\n",
    "arr = np.array(input(\"Enter elements of the array separated by spaces: \").split(), dtype=int)\n",
    "\n",
    "# Finding the maximum value\n",
    "max_value = find_max(arr)\n",
    "\n",
    "if max_value is not None:\n",
    "    print(\"Maximum value:\", max_value)\n",
    "else:\n",
    "    print(\"Array is empty\")"
   ]
  },
  {
   "cell_type": "markdown",
   "metadata": {},
   "source": [
    "___\n",
    "**Write a program to accept two matrices [[1,2],[3,4]],   [[2,4],[6,8]]and find the sum and subtraction of two matrices**"
   ]
  },
  {
   "cell_type": "code",
   "execution_count": 3,
   "metadata": {},
   "outputs": [
    {
     "name": "stdout",
     "output_type": "stream",
     "text": [
      "Sum of the matrices:\n",
      "[[ 3  6]\n",
      " [ 9 12]]\n",
      "\n",
      "Subtraction of the matrices:\n",
      "[[-1 -2]\n",
      " [-3 -4]]\n"
     ]
    }
   ],
   "source": [
    "import numpy as np\n",
    "\n",
    "# Define the matrices\n",
    "matrix1 = np.array([[1, 2], [3, 4]])\n",
    "matrix2 = np.array([[2, 4], [6, 8]])\n",
    "\n",
    "# Find the sum of matrices\n",
    "sum_result = matrix1 + matrix2\n",
    "print(\"Sum of the matrices:\")\n",
    "print(sum_result)\n",
    "\n",
    "# Find the subtraction of matrices\n",
    "subtraction_result = matrix1 - matrix2\n",
    "print(\"\\nSubtraction of the matrices:\")\n",
    "print(subtraction_result)\n"
   ]
  },
  {
   "cell_type": "markdown",
   "metadata": {},
   "source": [
    "___\n",
    "**Write a program to generate a ranodom matrix of size 5 X 6. Add another row containing random elements to it. Find the sum of each row.**"
   ]
  },
  {
   "cell_type": "code",
   "execution_count": 4,
   "metadata": {},
   "outputs": [
    {
     "name": "stdout",
     "output_type": "stream",
     "text": [
      "Random Matrix:\n",
      "[[0.40505468 0.05375485 0.99067976 0.48182283 0.55261661 0.58658176]\n",
      " [0.63906356 0.34296428 0.15585825 0.42401167 0.27753739 0.66308744]\n",
      " [0.37900516 0.38067069 0.50519536 0.75461705 0.33361185 0.07902437]\n",
      " [0.22768548 0.18586809 0.11487275 0.29087698 0.97452849 0.78266317]\n",
      " [0.57177619 0.381039   0.59924039 0.72757484 0.7915899  0.40078135]]\n",
      "\n",
      "Matrix with added row:\n",
      "[[0.40505468 0.05375485 0.99067976 0.48182283 0.55261661 0.58658176]\n",
      " [0.63906356 0.34296428 0.15585825 0.42401167 0.27753739 0.66308744]\n",
      " [0.37900516 0.38067069 0.50519536 0.75461705 0.33361185 0.07902437]\n",
      " [0.22768548 0.18586809 0.11487275 0.29087698 0.97452849 0.78266317]\n",
      " [0.57177619 0.381039   0.59924039 0.72757484 0.7915899  0.40078135]\n",
      " [0.23705674 0.8228047  0.03452573 0.17747181 0.4737864  0.31391185]]\n",
      "\n",
      "Sum of each row:\n",
      "[3.07051049 2.50252259 2.43212449 2.57649495 3.47200167 2.05955722]\n"
     ]
    }
   ],
   "source": [
    "import numpy as np\n",
    "\n",
    "# Generate a random matrix of size 5x6\n",
    "random_matrix = np.random.rand(5, 6)\n",
    "print(\"Random Matrix:\")\n",
    "print(random_matrix)\n",
    "\n",
    "# Add another row with random elements\n",
    "new_row = np.random.rand(1, 6)\n",
    "random_matrix = np.vstack([random_matrix, new_row])\n",
    "print(\"\\nMatrix with added row:\")\n",
    "print(random_matrix)\n",
    "\n",
    "# Find the sum of each row\n",
    "row_sums = np.sum(random_matrix, axis=1)\n",
    "print(\"\\nSum of each row:\")\n",
    "print(row_sums)"
   ]
  },
  {
   "cell_type": "markdown",
   "metadata": {},
   "source": [
    "___\n",
    "**Write a program to generate a ranodm integer matrix of size 5 X 6. Add another column containing random integers to it. Compute the sine of each element and print it**"
   ]
  },
  {
   "cell_type": "code",
   "execution_count": 5,
   "metadata": {},
   "outputs": [
    {
     "name": "stdout",
     "output_type": "stream",
     "text": [
      "Random Matrix:\n",
      "[[9 0 5 2 8 9]\n",
      " [9 2 5 7 0 2]\n",
      " [1 4 6 5 5 5]\n",
      " [5 1 7 0 3 0]\n",
      " [7 7 8 4 6 9]]\n",
      "\n",
      "Matrix with added column:\n",
      "[[9 0 5 2 8 9 5]\n",
      " [9 2 5 7 0 2 5]\n",
      " [1 4 6 5 5 5 1]\n",
      " [5 1 7 0 3 0 4]\n",
      " [7 7 8 4 6 9 5]]\n",
      "\n",
      "Sine of each element:\n",
      "[[ 0.41211849  0.         -0.95892427  0.90929743  0.98935825  0.41211849\n",
      "  -0.95892427]\n",
      " [ 0.41211849  0.90929743 -0.95892427  0.6569866   0.          0.90929743\n",
      "  -0.95892427]\n",
      " [ 0.84147098 -0.7568025  -0.2794155  -0.95892427 -0.95892427 -0.95892427\n",
      "   0.84147098]\n",
      " [-0.95892427  0.84147098  0.6569866   0.          0.14112001  0.\n",
      "  -0.7568025 ]\n",
      " [ 0.6569866   0.6569866   0.98935825 -0.7568025  -0.2794155   0.41211849\n",
      "  -0.95892427]]\n"
     ]
    }
   ],
   "source": [
    "import numpy as np\n",
    "\n",
    "# Generate a random matrix of size 5x6\n",
    "random_matrix = np.random.randint(0, 10, size=(5, 6))\n",
    "print(\"Random Matrix:\")\n",
    "print(random_matrix)\n",
    "\n",
    "# Add another column with random elements\n",
    "new_column = np.random.randint(0, 10, size=(5, 1))\n",
    "random_matrix = np.hstack([random_matrix, new_column])\n",
    "print(\"\\nMatrix with added column:\")\n",
    "print(random_matrix)\n",
    "\n",
    "# Compute the sine of each element\n",
    "sin_matrix = np.sin(random_matrix)\n",
    "print(\"\\nSine of each element:\")\n",
    "print(sin_matrix)"
   ]
  },
  {
   "cell_type": "markdown",
   "metadata": {},
   "source": [
    "___\n",
    "**Write a program to generate a ranodm matrix of size 5 X 6. Consider the 3rd and 4th row; and 2nd, 3rd and 4th column and print the resultant matrix using slicing**"
   ]
  },
  {
   "cell_type": "code",
   "execution_count": 6,
   "metadata": {},
   "outputs": [
    {
     "name": "stdout",
     "output_type": "stream",
     "text": [
      "Random Matrix:\n",
      "[[7 4 6 2 4 6]\n",
      " [1 3 9 5 9 3]\n",
      " [8 8 1 4 2 9]\n",
      " [9 4 0 4 8 9]\n",
      " [0 7 5 7 3 5]]\n",
      "\n",
      "Resultant Matrix:\n",
      "[[8 1 4]\n",
      " [4 0 4]]\n"
     ]
    }
   ],
   "source": [
    "import numpy as np\n",
    "\n",
    "# Generate a random matrix of size 5x6\n",
    "random_matrix = np.random.randint(0, 10, size=(5, 6))\n",
    "print(\"Random Matrix:\")\n",
    "print(random_matrix)\n",
    "\n",
    "# Extract the specified rows and columns using slicing\n",
    "resultant_matrix = random_matrix[2:4, 1:4]\n",
    "print(\"\\nResultant Matrix:\")\n",
    "print(resultant_matrix)"
   ]
  },
  {
   "cell_type": "markdown",
   "metadata": {},
   "source": [
    "### Great Job!"
   ]
  }
 ],
 "metadata": {
  "kernelspec": {
   "display_name": "Python 3 (ipykernel)",
   "language": "python",
   "name": "python3"
  },
  "language_info": {
   "codemirror_mode": {
    "name": "ipython",
    "version": 3
   },
   "file_extension": ".py",
   "mimetype": "text/x-python",
   "name": "python",
   "nbconvert_exporter": "python",
   "pygments_lexer": "ipython3",
   "version": "3.11.7"
  }
 },
 "nbformat": 4,
 "nbformat_minor": 4
}
