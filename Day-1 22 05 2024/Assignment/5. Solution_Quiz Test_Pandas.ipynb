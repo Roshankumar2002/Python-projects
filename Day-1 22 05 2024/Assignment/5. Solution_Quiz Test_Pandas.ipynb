{
 "cells": [
  {
   "cell_type": "markdown",
   "metadata": {},
   "source": [
    "<table>\n",
    "<tr>\n",
    "<td width=15%><img src=\"https://www.nitrkl.ac.in/assets/images/logo.png\"></img></td>\n",
    "<td><center><h1>National Institute of Technology\n",
    "Rourkela, Odisha, India, 769008</h1><h2>Department of Computer Science Engineering</h2></center></td>\n",
    "</tr>\n",
    "<tr><td colspan=2><center><h3>SUMMER INTERNSHIP cum TRAINNING PROGRAMME</h3></br>\n",
    "            <b>(STTP: Introduction to Data Science using Python)</b></center></td></tr>\n",
    "</table>"
   ]
  },
  {
   "cell_type": "markdown",
   "metadata": {},
   "source": [
    "______\n",
    "**1. Write a program to initialize a dictionary (of your choice) and create a pandas DataFrame from it. Print the dataframe?**"
   ]
  },
  {
   "cell_type": "code",
   "execution_count": 1,
   "metadata": {},
   "outputs": [
    {
     "name": "stdout",
     "output_type": "stream",
     "text": [
      "      Name  Age         City\n",
      "0    Alice   25     New York\n",
      "1      Bob   30  Los Angeles\n",
      "2  Charlie   35      Chicago\n"
     ]
    }
   ],
   "source": [
    "#Code here\n",
    "import pandas as pd\n",
    "\n",
    "data = {\n",
    "    'Name': ['Alice', 'Bob', 'Charlie'],\n",
    "    'Age': [25, 30, 35],\n",
    "    'City': ['New York', 'Los Angeles', 'Chicago']\n",
    "}\n",
    "\n",
    "df = pd.DataFrame(data)\n",
    "print(df)\n"
   ]
  },
  {
   "cell_type": "markdown",
   "metadata": {},
   "source": [
    "___\n",
    "**2. Write a program to read the CSV file \"summer.csv\" into a pandas DataFrame \"df\", display the first 5 rows, and print the DataFrame's shape**"
   ]
  },
  {
   "cell_type": "code",
   "execution_count": 2,
   "metadata": {},
   "outputs": [
    {
     "name": "stdout",
     "output_type": "stream",
     "text": [
      "   Year    City     Sport Discipline             Athlete Country Gender  \\\n",
      "0  1896  Athens  Aquatics   Swimming       HAJOS, Alfred     HUN    Men   \n",
      "1  1896  Athens  Aquatics   Swimming    HERSCHMANN, Otto     AUT    Men   \n",
      "2  1896  Athens  Aquatics   Swimming   DRIVAS, Dimitrios     GRE    Men   \n",
      "3  1896  Athens  Aquatics   Swimming  MALOKINIS, Ioannis     GRE    Men   \n",
      "4  1896  Athens  Aquatics   Swimming  CHASAPIS, Spiridon     GRE    Men   \n",
      "\n",
      "                        Event   Medal  \n",
      "0              100M Freestyle    Gold  \n",
      "1              100M Freestyle  Silver  \n",
      "2  100M Freestyle For Sailors  Bronze  \n",
      "3  100M Freestyle For Sailors    Gold  \n",
      "4  100M Freestyle For Sailors  Silver  \n",
      "(31165, 9)\n"
     ]
    }
   ],
   "source": [
    "#Code here\n",
    "import pandas as pd\n",
    "\n",
    "df = pd.read_csv(\"summer.csv\")\n",
    "print(df.head())\n",
    "print(df.shape)\n",
    "\n"
   ]
  },
  {
   "cell_type": "markdown",
   "metadata": {},
   "source": [
    "___\n",
    "**3. Write a program to display the last 10 rows of the DataFrame?**"
   ]
  },
  {
   "cell_type": "code",
   "execution_count": 3,
   "metadata": {},
   "outputs": [
    {
     "name": "stdout",
     "output_type": "stream",
     "text": [
      "       Year    City      Sport           Discipline  \\\n",
      "31155  2012  London  Wrestling  Wrestling Freestyle   \n",
      "31156  2012  London  Wrestling  Wrestling Freestyle   \n",
      "31157  2012  London  Wrestling  Wrestling Freestyle   \n",
      "31158  2012  London  Wrestling  Wrestling Freestyle   \n",
      "31159  2012  London  Wrestling  Wrestling Freestyle   \n",
      "31160  2012  London  Wrestling  Wrestling Freestyle   \n",
      "31161  2012  London  Wrestling  Wrestling Freestyle   \n",
      "31162  2012  London  Wrestling  Wrestling Freestyle   \n",
      "31163  2012  London  Wrestling  Wrestling Freestyle   \n",
      "31164  2012  London  Wrestling  Wrestling Freestyle   \n",
      "\n",
      "                            Athlete Country Gender     Event   Medal  \n",
      "31155                 AHMADOV, Emin     AZE    Men  Wg 74 KG  Bronze  \n",
      "31156          KAZAKEVIC, Aleksandr     LTU    Men  Wg 74 KG  Bronze  \n",
      "31157                 KHUGAEV, Alan     RUS    Men  Wg 84 KG    Gold  \n",
      "31158  EBRAHIM, Karam Mohamed Gaber     EGY    Men  Wg 84 KG  Silver  \n",
      "31159               GAJIYEV, Danyal     KAZ    Men  Wg 84 KG  Bronze  \n",
      "31160            JANIKOWSKI, Damian     POL    Men  Wg 84 KG  Bronze  \n",
      "31161     REZAEI, Ghasem Gholamreza     IRI    Men  Wg 96 KG    Gold  \n",
      "31162                TOTROV, Rustam     RUS    Men  Wg 96 KG  Silver  \n",
      "31163             ALEKSANYAN, Artur     ARM    Men  Wg 96 KG  Bronze  \n",
      "31164                LIDBERG, Jimmy     SWE    Men  Wg 96 KG  Bronze  \n"
     ]
    }
   ],
   "source": [
    "#Code here\n",
    "print(df.tail(10))"
   ]
  },
  {
   "cell_type": "markdown",
   "metadata": {},
   "source": [
    "___\n",
    "**4. Write a program to get a summary of the DataFrame (such as the mean, count, etc.) and print the data types of all columns?**"
   ]
  },
  {
   "cell_type": "code",
   "execution_count": 4,
   "metadata": {},
   "outputs": [
    {
     "name": "stdout",
     "output_type": "stream",
     "text": [
      "               Year\n",
      "count  31165.000000\n",
      "mean    1970.482785\n",
      "std       33.158416\n",
      "min     1896.000000\n",
      "25%     1948.000000\n",
      "50%     1980.000000\n",
      "75%     2000.000000\n",
      "max     2012.000000\n",
      "Year           int64\n",
      "City          object\n",
      "Sport         object\n",
      "Discipline    object\n",
      "Athlete       object\n",
      "Country       object\n",
      "Gender        object\n",
      "Event         object\n",
      "Medal         object\n",
      "dtype: object\n"
     ]
    }
   ],
   "source": [
    "#Code here\n",
    "print(df.describe())\n",
    "print(df.dtypes)"
   ]
  },
  {
   "cell_type": "markdown",
   "metadata": {},
   "source": [
    "___\n",
    "**5. Write a program to select a single column \"Gender\" from the DataFrame?**"
   ]
  },
  {
   "cell_type": "code",
   "execution_count": 5,
   "metadata": {},
   "outputs": [
    {
     "name": "stdout",
     "output_type": "stream",
     "text": [
      "0        Men\n",
      "1        Men\n",
      "2        Men\n",
      "3        Men\n",
      "4        Men\n",
      "        ... \n",
      "31160    Men\n",
      "31161    Men\n",
      "31162    Men\n",
      "31163    Men\n",
      "31164    Men\n",
      "Name: Gender, Length: 31165, dtype: object\n"
     ]
    }
   ],
   "source": [
    "#Code here\n",
    "Age = df['Gender']\n",
    "print(Age)"
   ]
  },
  {
   "cell_type": "markdown",
   "metadata": {},
   "source": [
    "___\n",
    "**6. Write a program to select multiple columns \"Year\" and \"City\" from the DataFrame?**"
   ]
  },
  {
   "cell_type": "code",
   "execution_count": 6,
   "metadata": {},
   "outputs": [
    {
     "name": "stdout",
     "output_type": "stream",
     "text": [
      "       Year    City\n",
      "0      1896  Athens\n",
      "1      1896  Athens\n",
      "2      1896  Athens\n",
      "3      1896  Athens\n",
      "4      1896  Athens\n",
      "...     ...     ...\n",
      "31160  2012  London\n",
      "31161  2012  London\n",
      "31162  2012  London\n",
      "31163  2012  London\n",
      "31164  2012  London\n",
      "\n",
      "[31165 rows x 2 columns]\n"
     ]
    }
   ],
   "source": [
    "#Code here\n",
    "subset = df[['Year', 'City']]\n",
    "print(subset)"
   ]
  },
  {
   "cell_type": "markdown",
   "metadata": {},
   "source": [
    "___\n",
    "**7. Write a program to  filter rows in a DataFrame based on the condition that Gender = Men ?**"
   ]
  },
  {
   "cell_type": "code",
   "execution_count": 7,
   "metadata": {},
   "outputs": [
    {
     "name": "stdout",
     "output_type": "stream",
     "text": [
      "       Year    City      Sport           Discipline  \\\n",
      "0      1896  Athens   Aquatics             Swimming   \n",
      "1      1896  Athens   Aquatics             Swimming   \n",
      "2      1896  Athens   Aquatics             Swimming   \n",
      "3      1896  Athens   Aquatics             Swimming   \n",
      "4      1896  Athens   Aquatics             Swimming   \n",
      "...     ...     ...        ...                  ...   \n",
      "31160  2012  London  Wrestling  Wrestling Freestyle   \n",
      "31161  2012  London  Wrestling  Wrestling Freestyle   \n",
      "31162  2012  London  Wrestling  Wrestling Freestyle   \n",
      "31163  2012  London  Wrestling  Wrestling Freestyle   \n",
      "31164  2012  London  Wrestling  Wrestling Freestyle   \n",
      "\n",
      "                         Athlete Country Gender                       Event  \\\n",
      "0                  HAJOS, Alfred     HUN    Men              100M Freestyle   \n",
      "1               HERSCHMANN, Otto     AUT    Men              100M Freestyle   \n",
      "2              DRIVAS, Dimitrios     GRE    Men  100M Freestyle For Sailors   \n",
      "3             MALOKINIS, Ioannis     GRE    Men  100M Freestyle For Sailors   \n",
      "4             CHASAPIS, Spiridon     GRE    Men  100M Freestyle For Sailors   \n",
      "...                          ...     ...    ...                         ...   \n",
      "31160         JANIKOWSKI, Damian     POL    Men                    Wg 84 KG   \n",
      "31161  REZAEI, Ghasem Gholamreza     IRI    Men                    Wg 96 KG   \n",
      "31162             TOTROV, Rustam     RUS    Men                    Wg 96 KG   \n",
      "31163          ALEKSANYAN, Artur     ARM    Men                    Wg 96 KG   \n",
      "31164             LIDBERG, Jimmy     SWE    Men                    Wg 96 KG   \n",
      "\n",
      "        Medal  \n",
      "0        Gold  \n",
      "1      Silver  \n",
      "2      Bronze  \n",
      "3        Gold  \n",
      "4      Silver  \n",
      "...       ...  \n",
      "31160  Bronze  \n",
      "31161    Gold  \n",
      "31162  Silver  \n",
      "31163  Bronze  \n",
      "31164  Bronze  \n",
      "\n",
      "[22746 rows x 9 columns]\n"
     ]
    }
   ],
   "source": [
    "#Code here\n",
    "filtered_df = df[df['Gender'] == 'Men']\n",
    "print(filtered_df)"
   ]
  },
  {
   "cell_type": "markdown",
   "metadata": {},
   "source": [
    "___\n",
    "**8. Write a program to select and print the first 5 rows and columns 2 to 6 (inclusive) of the DataFrame. Also, print the type of the resulting object?**"
   ]
  },
  {
   "cell_type": "code",
   "execution_count": 8,
   "metadata": {},
   "outputs": [
    {
     "name": "stdout",
     "output_type": "stream",
     "text": [
      "      Sport Discipline             Athlete Country Gender\n",
      "0  Aquatics   Swimming       HAJOS, Alfred     HUN    Men\n",
      "1  Aquatics   Swimming    HERSCHMANN, Otto     AUT    Men\n",
      "2  Aquatics   Swimming   DRIVAS, Dimitrios     GRE    Men\n",
      "3  Aquatics   Swimming  MALOKINIS, Ioannis     GRE    Men\n",
      "4  Aquatics   Swimming  CHASAPIS, Spiridon     GRE    Men\n",
      "<class 'pandas.core.frame.DataFrame'>\n"
     ]
    }
   ],
   "source": [
    "#Code here\n",
    "result = df.iloc[:5, 2:7]\n",
    "print(result)\n",
    "print(type(result))\n"
   ]
  },
  {
   "cell_type": "markdown",
   "metadata": {},
   "source": [
    "___\n",
    "**9. Write a program to  delete a column \"City\" from the DataFrame and print the new dataframe??**"
   ]
  },
  {
   "cell_type": "code",
   "execution_count": 9,
   "metadata": {},
   "outputs": [
    {
     "name": "stdout",
     "output_type": "stream",
     "text": [
      "       Year      Sport           Discipline                    Athlete  \\\n",
      "0      1896   Aquatics             Swimming              HAJOS, Alfred   \n",
      "1      1896   Aquatics             Swimming           HERSCHMANN, Otto   \n",
      "2      1896   Aquatics             Swimming          DRIVAS, Dimitrios   \n",
      "3      1896   Aquatics             Swimming         MALOKINIS, Ioannis   \n",
      "4      1896   Aquatics             Swimming         CHASAPIS, Spiridon   \n",
      "...     ...        ...                  ...                        ...   \n",
      "31160  2012  Wrestling  Wrestling Freestyle         JANIKOWSKI, Damian   \n",
      "31161  2012  Wrestling  Wrestling Freestyle  REZAEI, Ghasem Gholamreza   \n",
      "31162  2012  Wrestling  Wrestling Freestyle             TOTROV, Rustam   \n",
      "31163  2012  Wrestling  Wrestling Freestyle          ALEKSANYAN, Artur   \n",
      "31164  2012  Wrestling  Wrestling Freestyle             LIDBERG, Jimmy   \n",
      "\n",
      "      Country Gender                       Event   Medal  \n",
      "0         HUN    Men              100M Freestyle    Gold  \n",
      "1         AUT    Men              100M Freestyle  Silver  \n",
      "2         GRE    Men  100M Freestyle For Sailors  Bronze  \n",
      "3         GRE    Men  100M Freestyle For Sailors    Gold  \n",
      "4         GRE    Men  100M Freestyle For Sailors  Silver  \n",
      "...       ...    ...                         ...     ...  \n",
      "31160     POL    Men                    Wg 84 KG  Bronze  \n",
      "31161     IRI    Men                    Wg 96 KG    Gold  \n",
      "31162     RUS    Men                    Wg 96 KG  Silver  \n",
      "31163     ARM    Men                    Wg 96 KG  Bronze  \n",
      "31164     SWE    Men                    Wg 96 KG  Bronze  \n",
      "\n",
      "[31165 rows x 8 columns]\n"
     ]
    }
   ],
   "source": [
    "#Code here\n",
    "df = df.drop('City', axis=1)\n",
    "print(df)\n",
    "\n"
   ]
  },
  {
   "cell_type": "markdown",
   "metadata": {},
   "source": [
    "___\n",
    "**10. Write a program to  rename a column \"Athlete\" to \"Participants\" in the DataFrame?**"
   ]
  },
  {
   "cell_type": "code",
   "execution_count": 10,
   "metadata": {},
   "outputs": [
    {
     "name": "stdout",
     "output_type": "stream",
     "text": [
      "       Year      Sport           Discipline               Participants  \\\n",
      "0      1896   Aquatics             Swimming              HAJOS, Alfred   \n",
      "1      1896   Aquatics             Swimming           HERSCHMANN, Otto   \n",
      "2      1896   Aquatics             Swimming          DRIVAS, Dimitrios   \n",
      "3      1896   Aquatics             Swimming         MALOKINIS, Ioannis   \n",
      "4      1896   Aquatics             Swimming         CHASAPIS, Spiridon   \n",
      "...     ...        ...                  ...                        ...   \n",
      "31160  2012  Wrestling  Wrestling Freestyle         JANIKOWSKI, Damian   \n",
      "31161  2012  Wrestling  Wrestling Freestyle  REZAEI, Ghasem Gholamreza   \n",
      "31162  2012  Wrestling  Wrestling Freestyle             TOTROV, Rustam   \n",
      "31163  2012  Wrestling  Wrestling Freestyle          ALEKSANYAN, Artur   \n",
      "31164  2012  Wrestling  Wrestling Freestyle             LIDBERG, Jimmy   \n",
      "\n",
      "      Country Gender                       Event   Medal  \n",
      "0         HUN    Men              100M Freestyle    Gold  \n",
      "1         AUT    Men              100M Freestyle  Silver  \n",
      "2         GRE    Men  100M Freestyle For Sailors  Bronze  \n",
      "3         GRE    Men  100M Freestyle For Sailors    Gold  \n",
      "4         GRE    Men  100M Freestyle For Sailors  Silver  \n",
      "...       ...    ...                         ...     ...  \n",
      "31160     POL    Men                    Wg 84 KG  Bronze  \n",
      "31161     IRI    Men                    Wg 96 KG    Gold  \n",
      "31162     RUS    Men                    Wg 96 KG  Silver  \n",
      "31163     ARM    Men                    Wg 96 KG  Bronze  \n",
      "31164     SWE    Men                    Wg 96 KG  Bronze  \n",
      "\n",
      "[31165 rows x 8 columns]\n"
     ]
    }
   ],
   "source": [
    "#Code here\n",
    "df = df.rename(columns={'Athlete': 'Participants'})\n",
    "print(df)\n",
    "\n",
    "\n"
   ]
  },
  {
   "cell_type": "markdown",
   "metadata": {},
   "source": [
    "___\n",
    "**11. Write a program to select and print the \"Participants\", \"Medal\" and \"Event\" columns for index 10 and 201 from the DataFrame.?**"
   ]
  },
  {
   "cell_type": "code",
   "execution_count": 11,
   "metadata": {},
   "outputs": [
    {
     "name": "stdout",
     "output_type": "stream",
     "text": [
      "          Participants   Medal           Event\n",
      "10   PEPANOS, Antonios  Silver  400M Freestyle\n",
      "201    LISTER, William    Gold      Water Polo\n"
     ]
    }
   ],
   "source": [
    "#Code here\n",
    "result = df.loc[[10, 201], [\"Participants\",\"Medal\", \"Event\"]]\n",
    "print(result)\n"
   ]
  },
  {
   "cell_type": "markdown",
   "metadata": {},
   "source": [
    "___\n",
    "**12. Write a program to display the first 10 rows of the df DataFrame and check for any missing values in each column.?**"
   ]
  },
  {
   "cell_type": "code",
   "execution_count": 12,
   "metadata": {},
   "outputs": [
    {
     "name": "stdout",
     "output_type": "stream",
     "text": [
      "   Year     Sport Discipline           Participants Country Gender  \\\n",
      "0  1896  Aquatics   Swimming          HAJOS, Alfred     HUN    Men   \n",
      "1  1896  Aquatics   Swimming       HERSCHMANN, Otto     AUT    Men   \n",
      "2  1896  Aquatics   Swimming      DRIVAS, Dimitrios     GRE    Men   \n",
      "3  1896  Aquatics   Swimming     MALOKINIS, Ioannis     GRE    Men   \n",
      "4  1896  Aquatics   Swimming     CHASAPIS, Spiridon     GRE    Men   \n",
      "5  1896  Aquatics   Swimming  CHOROPHAS, Efstathios     GRE    Men   \n",
      "6  1896  Aquatics   Swimming          HAJOS, Alfred     HUN    Men   \n",
      "7  1896  Aquatics   Swimming       ANDREOU, Joannis     GRE    Men   \n",
      "8  1896  Aquatics   Swimming  CHOROPHAS, Efstathios     GRE    Men   \n",
      "9  1896  Aquatics   Swimming          NEUMANN, Paul     AUT    Men   \n",
      "\n",
      "                        Event   Medal  \n",
      "0              100M Freestyle    Gold  \n",
      "1              100M Freestyle  Silver  \n",
      "2  100M Freestyle For Sailors  Bronze  \n",
      "3  100M Freestyle For Sailors    Gold  \n",
      "4  100M Freestyle For Sailors  Silver  \n",
      "5             1200M Freestyle  Bronze  \n",
      "6             1200M Freestyle    Gold  \n",
      "7             1200M Freestyle  Silver  \n",
      "8              400M Freestyle  Bronze  \n",
      "9              400M Freestyle    Gold  \n",
      "Year            0\n",
      "Sport           0\n",
      "Discipline      0\n",
      "Participants    0\n",
      "Country         4\n",
      "Gender          0\n",
      "Event           0\n",
      "Medal           0\n",
      "dtype: int64\n"
     ]
    }
   ],
   "source": [
    "#Code here\n",
    "print(df.head(10))\n",
    "print(df.isnull().sum())"
   ]
  },
  {
   "cell_type": "markdown",
   "metadata": {},
   "source": [
    "___\n",
    "**13. Write a program to select and print the \"Country\" and \"Medal\" columns from the df DataFrame, and then print the number of unique values in each of these columns.?**"
   ]
  },
  {
   "cell_type": "code",
   "execution_count": 13,
   "metadata": {},
   "outputs": [
    {
     "name": "stdout",
     "output_type": "stream",
     "text": [
      "      Country   Medal\n",
      "0         HUN    Gold\n",
      "1         AUT  Silver\n",
      "2         GRE  Bronze\n",
      "3         GRE    Gold\n",
      "4         GRE  Silver\n",
      "...       ...     ...\n",
      "31160     POL  Bronze\n",
      "31161     IRI    Gold\n",
      "31162     RUS  Silver\n",
      "31163     ARM  Bronze\n",
      "31164     SWE  Bronze\n",
      "\n",
      "[31165 rows x 2 columns]\n",
      "147\n",
      "3\n"
     ]
    }
   ],
   "source": [
    "#Code here\n",
    "subset = df[[\"Country\", \"Medal\"]]\n",
    "print(subset)\n",
    "print(subset[\"Country\"].nunique())\n",
    "print(subset[\"Medal\"].nunique())\n"
   ]
  },
  {
   "cell_type": "markdown",
   "metadata": {},
   "source": [
    "___\n",
    "**14. Write a program to group the df DataFrame by the \"Country\" column and calculate the total number of medals for each country. Print the result.?**"
   ]
  },
  {
   "cell_type": "code",
   "execution_count": 14,
   "metadata": {},
   "outputs": [
    {
     "name": "stdout",
     "output_type": "stream",
     "text": [
      "Country\n",
      "AFG      2\n",
      "AHO      1\n",
      "ALG     15\n",
      "ANZ     29\n",
      "ARG    259\n",
      "      ... \n",
      "VIE      2\n",
      "YUG    435\n",
      "ZAM      2\n",
      "ZIM     23\n",
      "ZZX     48\n",
      "Name: Medal, Length: 147, dtype: int64\n"
     ]
    }
   ],
   "source": [
    "#Code here\n",
    "medal_counts = df.groupby(\"Country\")[\"Medal\"].count()\n",
    "print(medal_counts)\n"
   ]
  },
  {
   "cell_type": "markdown",
   "metadata": {},
   "source": [
    "___\n",
    "**15. Write a program to sort the df DataFrame by the \"Year\" column in descending order and print the first 5 rows of the sorted DataFrame.?**"
   ]
  },
  {
   "cell_type": "code",
   "execution_count": 15,
   "metadata": {},
   "outputs": [
    {
     "name": "stdout",
     "output_type": "stream",
     "text": [
      "       Year       Sport           Discipline        Participants Country  \\\n",
      "31164  2012   Wrestling  Wrestling Freestyle      LIDBERG, Jimmy     SWE   \n",
      "29885  2012      Boxing               Boxing     NEVIN, John Joe     IRL   \n",
      "29857  2012  Basketball           Basketball        BISHOP, Abby     AUS   \n",
      "29858  2012  Basketball           Basketball  CAMBAGE, Elizabeth     AUS   \n",
      "29859  2012  Basketball           Basketball    HARROWER, Kristi     AUS   \n",
      "\n",
      "      Gender       Event   Medal  \n",
      "31164    Men    Wg 96 KG  Bronze  \n",
      "29885    Men        56KG  Silver  \n",
      "29857  Women  Basketball  Bronze  \n",
      "29858  Women  Basketball  Bronze  \n",
      "29859  Women  Basketball  Bronze  \n"
     ]
    }
   ],
   "source": [
    "#Code here\n",
    "sorted_df = df.sort_values(by=\"Year\", ascending=False)\n",
    "print(sorted_df.head())"
   ]
  },
  {
   "cell_type": "markdown",
   "metadata": {},
   "source": [
    "___\n",
    "**16. Write a program to add a new column \"Century\" to the df DataFrame. Classify each event as occurring in the \"20th Century\" if the \"Year\" is less than 2000, or the \"21st Century\" if the \"Year\" is 2000 or later. Print the first 5 rows to verify the change.**"
   ]
  },
  {
   "cell_type": "code",
   "execution_count": 16,
   "metadata": {},
   "outputs": [
    {
     "name": "stdout",
     "output_type": "stream",
     "text": [
      "                    Year    City     Sport Discipline Country Gender  \\\n",
      "Athlete                                                                \n",
      "HAJOS, Alfred       1896  Athens  Aquatics   Swimming     HUN    Men   \n",
      "HERSCHMANN, Otto    1896  Athens  Aquatics   Swimming     AUT    Men   \n",
      "DRIVAS, Dimitrios   1896  Athens  Aquatics   Swimming     GRE    Men   \n",
      "MALOKINIS, Ioannis  1896  Athens  Aquatics   Swimming     GRE    Men   \n",
      "CHASAPIS, Spiridon  1896  Athens  Aquatics   Swimming     GRE    Men   \n",
      "\n",
      "                                         Event   Medal       Century  \n",
      "Athlete                                                               \n",
      "HAJOS, Alfred                   100M Freestyle    Gold  20th Century  \n",
      "HERSCHMANN, Otto                100M Freestyle  Silver  20th Century  \n",
      "DRIVAS, Dimitrios   100M Freestyle For Sailors  Bronze  20th Century  \n",
      "MALOKINIS, Ioannis  100M Freestyle For Sailors    Gold  20th Century  \n",
      "CHASAPIS, Spiridon  100M Freestyle For Sailors  Silver  20th Century  \n"
     ]
    }
   ],
   "source": [
    "#Code here\n",
    "df = pd.read_csv(\"summer.csv\", index_col=\"Athlete\")\n",
    "\n",
    "df[\"Century\"] = df[\"Year\"].apply(lambda x: \"20th Century\" if x < 2000 else \"21st Century\")\n",
    "print(df.head())"
   ]
  },
  {
   "cell_type": "markdown",
   "metadata": {},
   "source": [
    "___\n",
    "**17. Write a program to filter and print rows from the df DataFrame where the \"Country\" is \"USA\" and the \"Medal\" is \"Gold\". Also, count the number of rows that meet this condition.**"
   ]
  },
  {
   "cell_type": "code",
   "execution_count": 17,
   "metadata": {},
   "outputs": [
    {
     "name": "stdout",
     "output_type": "stream",
     "text": [
      "                          Year    City       Sport           Discipline  \\\n",
      "Athlete                                                                   \n",
      "BURKE, Thomas             1896  Athens   Athletics            Athletics   \n",
      "CURTIS, Thomas            1896  Athens   Athletics            Athletics   \n",
      "BURKE, Thomas             1896  Athens   Athletics            Athletics   \n",
      "GARRETT, Robert           1896  Athens   Athletics            Athletics   \n",
      "CLARK, Ellery             1896  Athens   Athletics            Athletics   \n",
      "...                        ...     ...         ...                  ...   \n",
      "WILLIAMS, Serena          2012  London      Tennis               Tennis   \n",
      "MAY, Misty                2012  London  Volleyball     Beach Volleyball   \n",
      "WALSH JENNINGS, Kerri     2012  London  Volleyball     Beach Volleyball   \n",
      "BURROUGHS, Jordan Ernest  2012  London   Wrestling  Wrestling Freestyle   \n",
      "VARNER, Jacob Stephen     2012  London   Wrestling  Wrestling Freestyle   \n",
      "\n",
      "                         Country Gender             Event Medal       Century  \n",
      "Athlete                                                                        \n",
      "BURKE, Thomas                USA    Men              100M  Gold  20th Century  \n",
      "CURTIS, Thomas               USA    Men      110M Hurdles  Gold  20th Century  \n",
      "BURKE, Thomas                USA    Men              400M  Gold  20th Century  \n",
      "GARRETT, Robert              USA    Men      Discus Throw  Gold  20th Century  \n",
      "CLARK, Ellery                USA    Men         High Jump  Gold  20th Century  \n",
      "...                          ...    ...               ...   ...           ...  \n",
      "WILLIAMS, Serena             USA  Women           Singles  Gold  21st Century  \n",
      "MAY, Misty                   USA  Women  Beach Volleyball  Gold  21st Century  \n",
      "WALSH JENNINGS, Kerri        USA  Women  Beach Volleyball  Gold  21st Century  \n",
      "BURROUGHS, Jordan Ernest     USA    Men          Wf 74 KG  Gold  21st Century  \n",
      "VARNER, Jacob Stephen        USA    Men          Wf 96 KG  Gold  21st Century  \n",
      "\n",
      "[2235 rows x 9 columns]\n",
      "2235\n"
     ]
    }
   ],
   "source": [
    "#Code here\n",
    "usa_gold = df.loc[(df[\"Country\"] == \"USA\") & (df[\"Medal\"] == \"Gold\")]\n",
    "print(usa_gold)\n",
    "print(len(usa_gold))"
   ]
  },
  {
   "cell_type": "markdown",
   "metadata": {},
   "source": [
    "___\n",
    "**18. Write a program to create a new column \"Medal Points\" in the df DataFrame. Assign 3 points for \"Gold\", 2 points for \"Silver\", and 1 point for \"Bronze\". Print the first 5 rows to verify the changes.**"
   ]
  },
  {
   "cell_type": "code",
   "execution_count": 18,
   "metadata": {},
   "outputs": [
    {
     "name": "stdout",
     "output_type": "stream",
     "text": [
      "                    Year    City     Sport Discipline Country Gender  \\\n",
      "Athlete                                                                \n",
      "HAJOS, Alfred       1896  Athens  Aquatics   Swimming     HUN    Men   \n",
      "HERSCHMANN, Otto    1896  Athens  Aquatics   Swimming     AUT    Men   \n",
      "DRIVAS, Dimitrios   1896  Athens  Aquatics   Swimming     GRE    Men   \n",
      "MALOKINIS, Ioannis  1896  Athens  Aquatics   Swimming     GRE    Men   \n",
      "CHASAPIS, Spiridon  1896  Athens  Aquatics   Swimming     GRE    Men   \n",
      "\n",
      "                                         Event   Medal       Century  \\\n",
      "Athlete                                                                \n",
      "HAJOS, Alfred                   100M Freestyle    Gold  20th Century   \n",
      "HERSCHMANN, Otto                100M Freestyle  Silver  20th Century   \n",
      "DRIVAS, Dimitrios   100M Freestyle For Sailors  Bronze  20th Century   \n",
      "MALOKINIS, Ioannis  100M Freestyle For Sailors    Gold  20th Century   \n",
      "CHASAPIS, Spiridon  100M Freestyle For Sailors  Silver  20th Century   \n",
      "\n",
      "                    Medal Points  \n",
      "Athlete                           \n",
      "HAJOS, Alfred                  3  \n",
      "HERSCHMANN, Otto               2  \n",
      "DRIVAS, Dimitrios              1  \n",
      "MALOKINIS, Ioannis             3  \n",
      "CHASAPIS, Spiridon             2  \n"
     ]
    }
   ],
   "source": [
    "#Code here\n",
    "def medal_points(medal):\n",
    "    if medal == \"Gold\":\n",
    "        return 3\n",
    "    elif medal == \"Silver\":\n",
    "        return 2\n",
    "    elif medal == \"Bronze\":\n",
    "        return 1\n",
    "    else:\n",
    "        return 0\n",
    "\n",
    "df[\"Medal Points\"] = df[\"Medal\"].apply(medal_points)\n",
    "print(df.head())"
   ]
  },
  {
   "cell_type": "markdown",
   "metadata": {},
   "source": [
    "___\n",
    "**19. Write a program to filter the df DataFrame to include only rows where the \"Country\" is \"USA\". Then, group the filtered DataFrame by \"Year\" and calculate the total number of medals won by the USA each year. Print the results.**"
   ]
  },
  {
   "cell_type": "code",
   "execution_count": 19,
   "metadata": {},
   "outputs": [
    {
     "name": "stdout",
     "output_type": "stream",
     "text": [
      "Year\n",
      "1896     20\n",
      "1900     55\n",
      "1904    394\n",
      "1908     63\n",
      "1912    101\n",
      "1920    193\n",
      "1924    198\n",
      "1928     84\n",
      "1932    181\n",
      "1936     92\n",
      "1948    148\n",
      "1952    130\n",
      "1956    118\n",
      "1960    112\n",
      "1964    150\n",
      "1968    149\n",
      "1972    155\n",
      "1976    155\n",
      "1984    333\n",
      "1988    193\n",
      "1992    224\n",
      "1996    260\n",
      "2000    248\n",
      "2004    264\n",
      "2008    315\n",
      "2012    250\n",
      "Name: Medal, dtype: int64\n"
     ]
    }
   ],
   "source": [
    "#Code here\n",
    "usa_df = df[df[\"Country\"] == \"USA\"]\n",
    "usa_medals_by_year = usa_df.groupby(\"Year\")[\"Medal\"].count()\n",
    "print(usa_medals_by_year)\n",
    "\n"
   ]
  },
  {
   "cell_type": "markdown",
   "metadata": {},
   "source": [
    "___\n",
    "**20. Write a program to identify the athlete who has won the most medals. Display the athlete's name and the total number of medals they have won.**"
   ]
  },
  {
   "cell_type": "code",
   "execution_count": 20,
   "metadata": {},
   "outputs": [
    {
     "name": "stdout",
     "output_type": "stream",
     "text": [
      "The most successful athlete is PHELPS, Michael with 22 medals.\n"
     ]
    }
   ],
   "source": [
    "#Code here\n",
    "most_successful_athlete = df[\"Medal\"].groupby(df.index).count().idxmax()\n",
    "total_medals = df[\"Medal\"].groupby(df.index).count().max()\n",
    "print(f\"The most successful athlete is {most_successful_athlete} with {total_medals} medals.\")\n"
   ]
  },
  {
   "cell_type": "markdown",
   "metadata": {},
   "source": [
    "___\n",
    "**21. Write a program to group the df DataFrame by the \"Sport\" column and calculate the number of each type of medal (Gold, Silver, Bronze) for each sport. Print the results.**"
   ]
  },
  {
   "cell_type": "code",
   "execution_count": 21,
   "metadata": {},
   "outputs": [
    {
     "name": "stdout",
     "output_type": "stream",
     "text": [
      "Sport          Medal \n",
      "Aquatics       Bronze    1365\n",
      "               Gold      1421\n",
      "               Silver    1384\n",
      "Archery        Bronze      90\n",
      "               Gold       126\n",
      "                         ... \n",
      "Weightlifting  Gold       200\n",
      "               Silver     196\n",
      "Wrestling      Bronze     428\n",
      "               Gold       391\n",
      "               Silver     393\n",
      "Name: Medal, Length: 124, dtype: int64\n"
     ]
    }
   ],
   "source": [
    "#Code here\n",
    "sport_medals = df.groupby([\"Sport\", \"Medal\"])[\"Medal\"].count()\n",
    "print(sport_medals)"
   ]
  },
  {
   "cell_type": "markdown",
   "metadata": {},
   "source": [
    "### Great Job!"
   ]
  }
 ],
 "metadata": {
  "kernelspec": {
   "display_name": "Python 3 (ipykernel)",
   "language": "python",
   "name": "python3"
  },
  "language_info": {
   "codemirror_mode": {
    "name": "ipython",
    "version": 3
   },
   "file_extension": ".py",
   "mimetype": "text/x-python",
   "name": "python",
   "nbconvert_exporter": "python",
   "pygments_lexer": "ipython3",
   "version": "3.11.7"
  }
 },
 "nbformat": 4,
 "nbformat_minor": 4
}
